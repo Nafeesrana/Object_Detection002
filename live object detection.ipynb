{
 "cells": [
  {
   "cell_type": "code",
   "execution_count": null,
   "id": "be6b4ee8",
   "metadata": {},
   "outputs": [],
   "source": [
    "import cv2\n",
    "from gtts import gTTS\n",
    "from cvlib.object_detection import draw_bbox, detect_common_objects\n",
    "import playsound\n",
    "\n",
    "def speech(text):\n",
    "    print(text)\n",
    "    language = \"en\"\n",
    "    output = gTTS(text=text, lang=language, slow=False)\n",
    "    \n",
    "    output.save(\"output.mp3\")\n",
    "    playsound.playsound(\"output.mp3\")\n",
    "\n",
    "video = cv2.VideoCapture(0)  # Use camera index 0\n",
    "\n",
    "labels = []\n",
    "\n",
    "while True:\n",
    "    ret, frame = video.read()\n",
    "    \n",
    "    if not ret:\n",
    "        continue  # Skip frames with issues\n",
    "    \n",
    "    bbox, label, conf = detect_common_objects(frame)\n",
    "    output_image = draw_bbox(frame, bbox, label, conf)\n",
    "    \n",
    "    cv2.imshow(\"Object Detection\", output_image)\n",
    "    \n",
    "    for item in label:\n",
    "        if item in labels:\n",
    "            pass\n",
    "        else:\n",
    "            labels.append(item)\n",
    "        \n",
    "    if cv2.waitKey(1) & 0xFF == ord(\"q\"):\n",
    "        break\n",
    "\n",
    "i = 0\n",
    "new_sentence = []\n",
    "for label in labels:\n",
    "    if i == 0:\n",
    "        new_sentence.append(f\"I found a {label}, and, \")\n",
    "    else:\n",
    "        new_sentence.append(f\"a {label}\")\n",
    "        \n",
    "    i += 1\n",
    "\n",
    "speech(\"\".join(new_sentence))\n",
    "\n",
    "cv2.destroyAllWindows()\n",
    "video.release()\n"
   ]
  },
  {
   "cell_type": "code",
   "execution_count": null,
   "id": "d651b58f",
   "metadata": {},
   "outputs": [],
   "source": []
  }
 ],
 "metadata": {
  "kernelspec": {
   "display_name": "Python 3 (ipykernel)",
   "language": "python",
   "name": "python3"
  },
  "language_info": {
   "codemirror_mode": {
    "name": "ipython",
    "version": 3
   },
   "file_extension": ".py",
   "mimetype": "text/x-python",
   "name": "python",
   "nbconvert_exporter": "python",
   "pygments_lexer": "ipython3",
   "version": "3.11.3"
  }
 },
 "nbformat": 4,
 "nbformat_minor": 5
}
